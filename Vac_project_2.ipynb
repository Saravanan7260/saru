{
  "nbformat": 4,
  "nbformat_minor": 0,
  "metadata": {
    "colab": {
      "provenance": [],
      "authorship_tag": "ABX9TyPRUx5qPYJN7KP3+KZG5LUe",
      "include_colab_link": true
    },
    "kernelspec": {
      "name": "python3",
      "display_name": "Python 3"
    },
    "language_info": {
      "name": "python"
    }
  },
  "cells": [
    {
      "cell_type": "markdown",
      "metadata": {
        "id": "view-in-github",
        "colab_type": "text"
      },
      "source": [
        "<a href=\"https://colab.research.google.com/github/Saravanan7260/saru/blob/main/Vac_project_2.ipynb\" target=\"_parent\"><img src=\"https://colab.research.google.com/assets/colab-badge.svg\" alt=\"Open In Colab\"/></a>"
      ]
    },
    {
      "cell_type": "markdown",
      "source": [
        "# **Breadth First Search**"
      ],
      "metadata": {
        "id": "k9HUPRzdfgz6"
      }
    },
    {
      "cell_type": "markdown",
      "source": [
        "# BFS follows First in First Out strategy\n",
        "\n",
        "\"We can represent a graph using a adjacency list. Adjacency list is a collection of unordered lists used to represent a graph. One of the\n",
        "best ways to create an adjacency list is using dictioneries. Inside an adjacency list we have nodes and edges. the keys of the dictionery\n",
        "represent the node and the values are the neighbors\""
      ],
      "metadata": {
        "id": "RllSsuvWfiNp"
      }
    },
    {
      "cell_type": "code",
      "source": [
        "my_adj = {\n",
        " 'Start':['A','B'],\n",
        " 'A':['Start','E','F'],\n",
        " 'B':['Start','D','C'],\n",
        " 'C':['B'],\n",
        " 'D':['B','Goal'],\n",
        " 'E':['A'],\n",
        " 'F':['A'],\n",
        "  'Goal':['D']\n",
        "}"
      ],
      "metadata": {
        "id": "bkf18sANfzXg"
      },
      "execution_count": 4,
      "outputs": []
    },
    {
      "cell_type": "markdown",
      "source": [
        "Breadth First Search uses a queue data structure which follows first in first out policy\n",
        "\n",
        "*   Queue\n",
        "*   First In First Out"
      ],
      "metadata": {
        "id": "CljvHYOZf6Yr"
      }
    },
    {
      "cell_type": "markdown",
      "source": [
        "# Handling Queue in Python\n",
        "\n",
        "Queue is a linear data structure and stores data in the form of First in First out manner.In a queue, the element which came first will be\n",
        "processed first"
      ],
      "metadata": {
        "id": "X_yLWIa0ghTq"
      }
    },
    {
      "cell_type": "markdown",
      "source": [
        "# **Queue Operations**\n",
        "\n",
        "Enqueue\n",
        "\n",
        "Dequeue\n",
        "\n",
        "Size\n",
        "\n",
        "Front\n",
        "\n",
        "Rear"
      ],
      "metadata": {
        "id": "vB7peGtbgpfX"
      }
    },
    {
      "cell_type": "code",
      "source": [
        "from collections import deque"
      ],
      "metadata": {
        "id": "ne1EoEbog5Fz"
      },
      "execution_count": 5,
      "outputs": []
    },
    {
      "cell_type": "code",
      "source": [
        "Q = deque([\"a\",\"b\",\"c\",\"d\",\"e\"])"
      ],
      "metadata": {
        "id": "EKIYmQhPg7_V"
      },
      "execution_count": 6,
      "outputs": []
    },
    {
      "cell_type": "code",
      "source": [
        "Q.appendleft(\"O\")"
      ],
      "metadata": {
        "id": "PpIflcuhhA6n"
      },
      "execution_count": 8,
      "outputs": []
    },
    {
      "cell_type": "code",
      "source": [
        "Q"
      ],
      "metadata": {
        "colab": {
          "base_uri": "https://localhost:8080/"
        },
        "id": "50t9srOchNMZ",
        "outputId": "734cadf1-e4ee-4de6-ae13-4a4e01b54e52"
      },
      "execution_count": 9,
      "outputs": [
        {
          "output_type": "execute_result",
          "data": {
            "text/plain": [
              "deque(['O', 'O', 'a', 'b', 'c', 'd', 'e'])"
            ]
          },
          "metadata": {},
          "execution_count": 9
        }
      ]
    },
    {
      "cell_type": "code",
      "source": [
        "Q.append(\"f\")"
      ],
      "metadata": {
        "id": "_njvAuv4hR_n"
      },
      "execution_count": 10,
      "outputs": []
    },
    {
      "cell_type": "code",
      "source": [
        "Q"
      ],
      "metadata": {
        "colab": {
          "base_uri": "https://localhost:8080/"
        },
        "id": "_5jjKJf3hU66",
        "outputId": "00dc7d06-d960-41c6-8d1d-e9ba3eb2c402"
      },
      "execution_count": 11,
      "outputs": [
        {
          "output_type": "execute_result",
          "data": {
            "text/plain": [
              "deque(['O', 'O', 'a', 'b', 'c', 'd', 'e', 'f'])"
            ]
          },
          "metadata": {},
          "execution_count": 11
        }
      ]
    },
    {
      "cell_type": "code",
      "source": [
        "Q.popleft()"
      ],
      "metadata": {
        "colab": {
          "base_uri": "https://localhost:8080/",
          "height": 35
        },
        "id": "l_vhu9yehWKe",
        "outputId": "385110dd-c5fe-4d95-88db-b8644f7edcca"
      },
      "execution_count": 12,
      "outputs": [
        {
          "output_type": "execute_result",
          "data": {
            "text/plain": [
              "'O'"
            ],
            "application/vnd.google.colaboratory.intrinsic+json": {
              "type": "string"
            }
          },
          "metadata": {},
          "execution_count": 12
        }
      ]
    },
    {
      "cell_type": "code",
      "source": [
        "Q"
      ],
      "metadata": {
        "colab": {
          "base_uri": "https://localhost:8080/"
        },
        "id": "_kuGSrDshgAw",
        "outputId": "bd60bbfc-d0f1-479d-86a8-a2ff989debfe"
      },
      "execution_count": 13,
      "outputs": [
        {
          "output_type": "execute_result",
          "data": {
            "text/plain": [
              "deque(['O', 'a', 'b', 'c', 'd', 'e', 'f'])"
            ]
          },
          "metadata": {},
          "execution_count": 13
        }
      ]
    },
    {
      "cell_type": "code",
      "source": [
        "Q.pop()"
      ],
      "metadata": {
        "colab": {
          "base_uri": "https://localhost:8080/",
          "height": 35
        },
        "id": "1gwOZ7q4hi3a",
        "outputId": "61f9e28b-cee6-48d2-f4c5-49b61b064870"
      },
      "execution_count": 14,
      "outputs": [
        {
          "output_type": "execute_result",
          "data": {
            "text/plain": [
              "'f'"
            ],
            "application/vnd.google.colaboratory.intrinsic+json": {
              "type": "string"
            }
          },
          "metadata": {},
          "execution_count": 14
        }
      ]
    },
    {
      "cell_type": "code",
      "source": [
        "Q"
      ],
      "metadata": {
        "colab": {
          "base_uri": "https://localhost:8080/"
        },
        "id": "sf3WtXRchnan",
        "outputId": "dacb34c7-0e58-4f36-86fd-3224378bd37b"
      },
      "execution_count": 15,
      "outputs": [
        {
          "output_type": "execute_result",
          "data": {
            "text/plain": [
              "deque(['O', 'a', 'b', 'c', 'd', 'e'])"
            ]
          },
          "metadata": {},
          "execution_count": 15
        }
      ]
    },
    {
      "cell_type": "code",
      "source": [
        "graph = {\n",
        "'Sam':['Aaron','Binny'],\n",
        "'Aaron':['Sam','Christine','Danny'],\n",
        "'Binny':['Elvin','Flin'],\n",
        "'Christine':['Aaron'],\n",
        "'Danny':['Aaron'],\n",
        "'Elvin':['Binny','Gini'],\n",
        "'Flin':['Binny'],\n",
        "'Gini':['Elvin']\n",
        "}"
      ],
      "metadata": {
        "id": "C9S39h90hwFX"
      },
      "execution_count": 16,
      "outputs": []
    },
    {
      "cell_type": "code",
      "source": [
        "from collections import deque\n",
        "def bfs(graph,start,goal):\n",
        "    visited = []\n",
        "    queue = deque([start])\n",
        "    while queue:\n",
        "        node = queue.popleft()\n",
        "        if node not in visited:\n",
        "            visited.append(node)\n",
        "            print(\"I have visited: \",node)\n",
        "            neighbours = graph[node]\n",
        "            if node ==goal:\n",
        "                return(\"I have reached the goal, this is my traversed path: \",visited)\n",
        "            for neighbour in neighbours:\n",
        "                queue.append(neighbour)"
      ],
      "metadata": {
        "id": "h8lhWzOnhzV3"
      },
      "execution_count": 18,
      "outputs": []
    },
    {
      "cell_type": "code",
      "source": [
        "bfs(graph,'Sam','Gini')"
      ],
      "metadata": {
        "colab": {
          "base_uri": "https://localhost:8080/"
        },
        "id": "bFCgY98tiSJV",
        "outputId": "ed007b6f-d446-414a-ed5b-561f8241e216"
      },
      "execution_count": 19,
      "outputs": [
        {
          "output_type": "stream",
          "name": "stdout",
          "text": [
            "I have visited:  Sam\n",
            "I have visited:  Aaron\n",
            "I have visited:  Binny\n",
            "I have visited:  Christine\n",
            "I have visited:  Danny\n",
            "I have visited:  Elvin\n",
            "I have visited:  Flin\n",
            "I have visited:  Gini\n"
          ]
        },
        {
          "output_type": "execute_result",
          "data": {
            "text/plain": [
              "('I have reached the goal, this is my traversed path: ',\n",
              " ['Sam', 'Aaron', 'Binny', 'Christine', 'Danny', 'Elvin', 'Flin', 'Gini'])"
            ]
          },
          "metadata": {},
          "execution_count": 19
        }
      ]
    }
  ]
}