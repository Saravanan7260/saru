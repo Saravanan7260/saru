{
  "nbformat": 4,
  "nbformat_minor": 0,
  "metadata": {
    "colab": {
      "provenance": [],
      "name": "Expert system.ipynb",
      "authorship_tag": "ABX9TyPr7RWWbq+AFVekwpAOYJaG",
      "include_colab_link": true
    },
    "kernelspec": {
      "name": "python3",
      "display_name": "Python 3"
    },
    "language_info": {
      "name": "python"
    }
  },
  "cells": [
    {
      "cell_type": "markdown",
      "metadata": {
        "id": "view-in-github",
        "colab_type": "text"
      },
      "source": [
        "<a href=\"https://colab.research.google.com/github/Saravanan7260/saru/blob/main/Expert_system.ipynb\" target=\"_parent\"><img src=\"https://colab.research.google.com/assets/colab-badge.svg\" alt=\"Open In Colab\"/></a>"
      ]
    },
    {
      "cell_type": "markdown",
      "source": [
        "**Expert system**"
      ],
      "metadata": {
        "id": "ah_VGqnpeoUo"
      }
    },
    {
      "cell_type": "code",
      "source": [
        "my_marks = 91\n",
        "if (my_marks < 35):\n",
        "              print(\"Sorry You failed the exam\")\n",
        "elif(my_marks > 60 and my_marks > 100): \n",
        "              print(\"Passed in First class\")\n",
        "else:\n",
        "              print(\"Passed in First class with distinction\")"
      ],
      "metadata": {
        "colab": {
          "base_uri": "https://localhost:8080/"
        },
        "id": "LCmfwsFGe1Xl",
        "outputId": "b36e28ec-a925-4c4c-f91d-259759013f6d"
      },
      "execution_count": null,
      "outputs": [
        {
          "output_type": "stream",
          "name": "stdout",
          "text": [
            "Passed in First class with distinction\n"
          ]
        }
      ]
    },
    {
      "cell_type": "code",
      "source": [
        "a = 33\n",
        "b = 33\n",
        "if b > a:\n",
        "  print(\"b is greater than a\")\n",
        "elif a == b:\n",
        "  print(\"a and b are equal\")"
      ],
      "metadata": {
        "colab": {
          "base_uri": "https://localhost:8080/"
        },
        "id": "MvNRKfTbg5Qu",
        "outputId": "1735fca2-ac58-40b1-89f1-2051f8ac0f47"
      },
      "execution_count": null,
      "outputs": [
        {
          "output_type": "stream",
          "name": "stdout",
          "text": [
            "a and b are equal\n"
          ]
        }
      ]
    }
  ]
}